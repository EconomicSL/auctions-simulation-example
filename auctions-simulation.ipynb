{
 "cells": [
  {
   "cell_type": "code",
   "execution_count": 53,
   "metadata": {
    "collapsed": true
   },
   "outputs": [],
   "source": [
    "%matplotlib inline"
   ]
  },
  {
   "cell_type": "code",
   "execution_count": 68,
   "metadata": {
    "collapsed": true
   },
   "outputs": [],
   "source": [
    "import collections\n",
    "import json\n",
    "\n",
    "import pandas as pd"
   ]
  },
  {
   "cell_type": "code",
   "execution_count": 16,
   "metadata": {
    "collapsed": false
   },
   "outputs": [
    {
     "name": "stdout",
     "output_type": "stream",
     "text": [
      "[info] Loading global plugins from C:\\Users\\pughdr\\.sbt\\0.13\\plugins\n",
      "[info] Loading project definition from C:\\Users\\pughdr\\Research\\scalabm\\auctions-simulation-example\\project\n",
      "[info] Set current project to auctions-simulation-example (in build file:/C:/Users/pughdr/Research/scalabm/auctions-simulation-example/)\n",
      "[info] Compiling 1 Scala source to C:\\Users\\pughdr\\Research\\scalabm\\auctions-simulation-example\\target\\scala-2.12\\classes...\n",
      "[info] Running ContinuousDoubleAuction \n",
      "[success] Total time: 13 s, completed Jun 4, 2017 2:23:07 PM\n"
     ]
    },
    {
     "name": "stderr",
     "output_type": "stream",
     "text": [
      "Java HotSpot(TM) 64-Bit Server VM warning: ignoring option MaxPermSize=256m; support was removed in 8.0\n"
     ]
    }
   ],
   "source": [
    "!sbt \"run-main ContinuousDoubleAuction\""
   ]
  },
  {
   "cell_type": "markdown",
   "metadata": {},
   "source": [
    "# Load the resulting JSON data into a DataFrame\n",
    "\n",
    "Although we can simply load the JSON data straight into Panadas, the resulting DataFrame is note terribly useful... "
   ]
  },
  {
   "cell_type": "code",
   "execution_count": 22,
   "metadata": {
    "collapsed": false
   },
   "outputs": [],
   "source": [
    "df = pd.read_json(\"./output.json\")"
   ]
  },
  {
   "cell_type": "code",
   "execution_count": 23,
   "metadata": {
    "collapsed": false
   },
   "outputs": [
    {
     "data": {
      "text/html": [
       "<div>\n",
       "<table border=\"1\" class=\"dataframe\">\n",
       "  <thead>\n",
       "    <tr style=\"text-align: right;\">\n",
       "      <th></th>\n",
       "      <th>askOrder</th>\n",
       "      <th>bidOrder</th>\n",
       "      <th>price</th>\n",
       "    </tr>\n",
       "  </thead>\n",
       "  <tbody>\n",
       "    <tr>\n",
       "      <th>0</th>\n",
       "      <td>{'issuer': '09636ef7-9468-4150-b5d6-4d01d9300f...</td>\n",
       "      <td>{'issuer': '2134f075-3eda-4fd6-a5a7-bf3c868fc9...</td>\n",
       "      <td>{'value': 674661567}</td>\n",
       "    </tr>\n",
       "    <tr>\n",
       "      <th>1</th>\n",
       "      <td>{'issuer': '0fd79076-1230-4ceb-b6ee-e5f52bd08a...</td>\n",
       "      <td>{'issuer': 'fda35b5b-0680-4bcd-8124-e557c77cd1...</td>\n",
       "      <td>{'value': 1251951003}</td>\n",
       "    </tr>\n",
       "    <tr>\n",
       "      <th>2</th>\n",
       "      <td>{'issuer': 'e3a7542e-6906-4bac-a58e-73cd835819...</td>\n",
       "      <td>{'issuer': '620c3355-c1e6-449b-be93-17eb406e7e...</td>\n",
       "      <td>{'value': 676518127}</td>\n",
       "    </tr>\n",
       "    <tr>\n",
       "      <th>3</th>\n",
       "      <td>{'issuer': 'ed804d30-d4ed-4620-8c41-39b4a8935b...</td>\n",
       "      <td>{'issuer': 'aa9a7be3-905d-40cb-9f13-236fa3db9e...</td>\n",
       "      <td>{'value': 1226922549}</td>\n",
       "    </tr>\n",
       "    <tr>\n",
       "      <th>4</th>\n",
       "      <td>{'issuer': '8ec8f181-3f1a-4be8-b482-616054d355...</td>\n",
       "      <td>{'issuer': '58226cfe-5c14-4e1f-acfc-fd0df9e08b...</td>\n",
       "      <td>{'value': 689170124}</td>\n",
       "    </tr>\n",
       "  </tbody>\n",
       "</table>\n",
       "</div>"
      ],
      "text/plain": [
       "                                            askOrder  \\\n",
       "0  {'issuer': '09636ef7-9468-4150-b5d6-4d01d9300f...   \n",
       "1  {'issuer': '0fd79076-1230-4ceb-b6ee-e5f52bd08a...   \n",
       "2  {'issuer': 'e3a7542e-6906-4bac-a58e-73cd835819...   \n",
       "3  {'issuer': 'ed804d30-d4ed-4620-8c41-39b4a8935b...   \n",
       "4  {'issuer': '8ec8f181-3f1a-4be8-b482-616054d355...   \n",
       "\n",
       "                                            bidOrder                  price  \n",
       "0  {'issuer': '2134f075-3eda-4fd6-a5a7-bf3c868fc9...   {'value': 674661567}  \n",
       "1  {'issuer': 'fda35b5b-0680-4bcd-8124-e557c77cd1...  {'value': 1251951003}  \n",
       "2  {'issuer': '620c3355-c1e6-449b-be93-17eb406e7e...   {'value': 676518127}  \n",
       "3  {'issuer': 'aa9a7be3-905d-40cb-9f13-236fa3db9e...  {'value': 1226922549}  \n",
       "4  {'issuer': '58226cfe-5c14-4e1f-acfc-fd0df9e08b...   {'value': 689170124}  "
      ]
     },
     "execution_count": 23,
     "metadata": {},
     "output_type": "execute_result"
    }
   ],
   "source": [
    "df.head()"
   ]
  },
  {
   "cell_type": "code",
   "execution_count": 24,
   "metadata": {
    "collapsed": false
   },
   "outputs": [
    {
     "data": {
      "text/html": [
       "<div>\n",
       "<table border=\"1\" class=\"dataframe\">\n",
       "  <thead>\n",
       "    <tr style=\"text-align: right;\">\n",
       "      <th></th>\n",
       "      <th>askOrder</th>\n",
       "      <th>bidOrder</th>\n",
       "      <th>price</th>\n",
       "    </tr>\n",
       "  </thead>\n",
       "  <tbody>\n",
       "    <tr>\n",
       "      <th>39160</th>\n",
       "      <td>{'issuer': '87e0ea42-4bea-46b5-96c4-769056f6be...</td>\n",
       "      <td>{'issuer': '2d0499c0-b381-4c5c-92ca-afbeaa3825...</td>\n",
       "      <td>{'value': 1062494452}</td>\n",
       "    </tr>\n",
       "    <tr>\n",
       "      <th>39161</th>\n",
       "      <td>{'issuer': 'a16ebd7c-45ad-4cf7-8aee-6b4d9c2834...</td>\n",
       "      <td>{'issuer': 'fd16ac4b-9aae-4841-a8d4-dcf5b80f8f...</td>\n",
       "      <td>{'value': 1507087645}</td>\n",
       "    </tr>\n",
       "    <tr>\n",
       "      <th>39162</th>\n",
       "      <td>{'issuer': 'caa80033-dfc3-4456-bb97-aca71a7ebd...</td>\n",
       "      <td>{'issuer': '272df194-2ff5-4a2a-8a35-86fc399dcd...</td>\n",
       "      <td>{'value': 818178480}</td>\n",
       "    </tr>\n",
       "    <tr>\n",
       "      <th>39163</th>\n",
       "      <td>{'issuer': '442a5586-7194-4f7a-a315-b134d9a13d...</td>\n",
       "      <td>{'issuer': 'd2c2f40f-03b9-4f81-9af8-947b5cfb45...</td>\n",
       "      <td>{'value': 1995313330}</td>\n",
       "    </tr>\n",
       "    <tr>\n",
       "      <th>39164</th>\n",
       "      <td>{'issuer': '9d792b9e-e99c-4ee4-983a-848b8fd30c...</td>\n",
       "      <td>{'issuer': 'e5f13d29-3ecc-4724-9c60-89acbd2bbf...</td>\n",
       "      <td>{'value': 1255000031}</td>\n",
       "    </tr>\n",
       "  </tbody>\n",
       "</table>\n",
       "</div>"
      ],
      "text/plain": [
       "                                                askOrder  \\\n",
       "39160  {'issuer': '87e0ea42-4bea-46b5-96c4-769056f6be...   \n",
       "39161  {'issuer': 'a16ebd7c-45ad-4cf7-8aee-6b4d9c2834...   \n",
       "39162  {'issuer': 'caa80033-dfc3-4456-bb97-aca71a7ebd...   \n",
       "39163  {'issuer': '442a5586-7194-4f7a-a315-b134d9a13d...   \n",
       "39164  {'issuer': '9d792b9e-e99c-4ee4-983a-848b8fd30c...   \n",
       "\n",
       "                                                bidOrder  \\\n",
       "39160  {'issuer': '2d0499c0-b381-4c5c-92ca-afbeaa3825...   \n",
       "39161  {'issuer': 'fd16ac4b-9aae-4841-a8d4-dcf5b80f8f...   \n",
       "39162  {'issuer': '272df194-2ff5-4a2a-8a35-86fc399dcd...   \n",
       "39163  {'issuer': 'd2c2f40f-03b9-4f81-9af8-947b5cfb45...   \n",
       "39164  {'issuer': 'e5f13d29-3ecc-4724-9c60-89acbd2bbf...   \n",
       "\n",
       "                       price  \n",
       "39160  {'value': 1062494452}  \n",
       "39161  {'value': 1507087645}  \n",
       "39162   {'value': 818178480}  \n",
       "39163  {'value': 1995313330}  \n",
       "39164  {'value': 1255000031}  "
      ]
     },
     "execution_count": 24,
     "metadata": {},
     "output_type": "execute_result"
    }
   ],
   "source": [
    "df.tail()"
   ]
  },
  {
   "cell_type": "markdown",
   "metadata": {},
   "source": [
    "...we will need to massage the data into a more convenient format for analysis.  "
   ]
  },
  {
   "cell_type": "code",
   "execution_count": 37,
   "metadata": {
    "collapsed": true
   },
   "outputs": [],
   "source": [
    "with open('output.json') as f:    \n",
    "    fills = json.load(f)"
   ]
  },
  {
   "cell_type": "code",
   "execution_count": 38,
   "metadata": {
    "collapsed": false
   },
   "outputs": [
    {
     "data": {
      "text/plain": [
       "{'askOrder': {'issuer': '89ca6909-533e-4b25-8cef-fcf8ce3c8f50',\n",
       "  'limit': {'value': 102948884},\n",
       "  'quantity': {'value': 1},\n",
       "  'tradable': {'tick': 1}},\n",
       " 'bidOrder': {'issuer': '502ebcb3-597e-4b10-b034-14dc95b2a92d',\n",
       "  'limit': {'value': 676262207},\n",
       "  'quantity': {'value': 1},\n",
       "  'tradable': {'tick': 1}},\n",
       " 'price': {'value': 674661567}}"
      ]
     },
     "execution_count": 38,
     "metadata": {},
     "output_type": "execute_result"
    }
   ],
   "source": [
    "# first fill...\n",
    "fills[0]"
   ]
  },
  {
   "cell_type": "code",
   "execution_count": 40,
   "metadata": {
    "collapsed": false
   },
   "outputs": [
    {
     "data": {
      "text/plain": [
       "{'askOrder': {'issuer': 'b0606dd5-b0b6-4e5b-8e26-76e5d6b5fe2b',\n",
       "  'limit': {'value': 53352659},\n",
       "  'quantity': {'value': 1},\n",
       "  'tradable': {'tick': 1}},\n",
       " 'bidOrder': {'issuer': '253db882-e9e2-4df2-abc8-fd77e2ca1ce4',\n",
       "  'limit': {'value': 1911251950},\n",
       "  'quantity': {'value': 1},\n",
       "  'tradable': {'tick': 1}},\n",
       " 'price': {'value': 154568684}}"
      ]
     },
     "execution_count": 40,
     "metadata": {},
     "output_type": "execute_result"
    }
   ],
   "source": [
    "# ...last fill!\n",
    "fills[-1]"
   ]
  },
  {
   "cell_type": "code",
   "execution_count": 69,
   "metadata": {
    "collapsed": false
   },
   "outputs": [],
   "source": [
    "# handling the fact that the stream of auction results is ordered wrong way!\n",
    "parsed_json = {'ask_price': collections.deque(), \n",
    "               'bid_price': collections.deque(), \n",
    "               'fill_price': collections.deque(), \n",
    "               'spread': collections.deque()}\n",
    "\n",
    "for fill in fills:\n",
    "    ask_price = fill['askOrder']['limit']['value']\n",
    "    bid_price = fill['bidOrder']['limit']['value']\n",
    "    fill_price = fill['price']['value']\n",
    "    spread = bid_price - ask_price\n",
    "    parsed_json['ask_price'].appendleft(ask_price)\n",
    "    parsed_json['bid_price'].appendleft(bid_price)\n",
    "    parsed_json['fill_price'].appendleft(fill_price)\n",
    "    parsed_json['spread'].appendleft(spread)"
   ]
  },
  {
   "cell_type": "code",
   "execution_count": 70,
   "metadata": {
    "collapsed": false
   },
   "outputs": [],
   "source": [
    "df = pd.DataFrame.from_dict(parsed_json)"
   ]
  },
  {
   "cell_type": "code",
   "execution_count": 71,
   "metadata": {
    "collapsed": false
   },
   "outputs": [
    {
     "data": {
      "text/html": [
       "<div>\n",
       "<table border=\"1\" class=\"dataframe\">\n",
       "  <thead>\n",
       "    <tr style=\"text-align: right;\">\n",
       "      <th></th>\n",
       "      <th>ask_price</th>\n",
       "      <th>bid_price</th>\n",
       "      <th>fill_price</th>\n",
       "      <th>spread</th>\n",
       "    </tr>\n",
       "  </thead>\n",
       "  <tbody>\n",
       "    <tr>\n",
       "      <th>0</th>\n",
       "      <td>53352659</td>\n",
       "      <td>1911251950</td>\n",
       "      <td>154568684</td>\n",
       "      <td>1857899291</td>\n",
       "    </tr>\n",
       "    <tr>\n",
       "      <th>1</th>\n",
       "      <td>255784709</td>\n",
       "      <td>1833529520</td>\n",
       "      <td>435358453</td>\n",
       "      <td>1577744811</td>\n",
       "    </tr>\n",
       "    <tr>\n",
       "      <th>2</th>\n",
       "      <td>614932197</td>\n",
       "      <td>1399541472</td>\n",
       "      <td>623761534</td>\n",
       "      <td>784609275</td>\n",
       "    </tr>\n",
       "    <tr>\n",
       "      <th>3</th>\n",
       "      <td>207850376</td>\n",
       "      <td>329659842</td>\n",
       "      <td>268755109</td>\n",
       "      <td>121809466</td>\n",
       "    </tr>\n",
       "    <tr>\n",
       "      <th>4</th>\n",
       "      <td>273324016</td>\n",
       "      <td>1595911716</td>\n",
       "      <td>339069217</td>\n",
       "      <td>1322587700</td>\n",
       "    </tr>\n",
       "  </tbody>\n",
       "</table>\n",
       "</div>"
      ],
      "text/plain": [
       "   ask_price   bid_price  fill_price      spread\n",
       "0   53352659  1911251950   154568684  1857899291\n",
       "1  255784709  1833529520   435358453  1577744811\n",
       "2  614932197  1399541472   623761534   784609275\n",
       "3  207850376   329659842   268755109   121809466\n",
       "4  273324016  1595911716   339069217  1322587700"
      ]
     },
     "execution_count": 71,
     "metadata": {},
     "output_type": "execute_result"
    }
   ],
   "source": [
    "df.head()"
   ]
  },
  {
   "cell_type": "markdown",
   "metadata": {},
   "source": [
    "# Times series plot of price data\n",
    "\n",
    "Ideally, we should plot the `askOrder.limit.value`, `bidOrder.limit.value`, and the `price.value` on one plot.  Should be the case that the `price.value` is a weighted average of the other two prices."
   ]
  },
  {
   "cell_type": "code",
   "execution_count": 72,
   "metadata": {
    "collapsed": false
   },
   "outputs": [
    {
     "data": {
      "image/png": "[encoded data removed]",
      "text/plain": [
       "<matplotlib.figure.Figure at 0x1beba26278>"
      ]
     },
     "metadata": {},
     "output_type": "display_data"
    }
   ],
   "source": [
    "df[['ask_price', 'bid_price', 'fill_price']].plot();"
   ]
  },
  {
   "cell_type": "code",
   "execution_count": 73,
   "metadata": {
    "collapsed": false
   },
   "outputs": [
    {
     "data": {
      "image/png": "[encoded data removed]",
      "text/plain": [
       "<matplotlib.figure.Figure at 0x1bf83fd390>"
      ]
     },
     "metadata": {},
     "output_type": "display_data"
    }
   ],
   "source": [
    "df.spread.plot(logy=True);"
   ]
  },
  {
   "cell_type": "code",
   "execution_count": 74,
   "metadata": {
    "collapsed": false
   },
   "outputs": [
    {
     "data": {
      "image/png": "[encoded data removed]",
      "text/plain": [
       "<matplotlib.figure.Figure at 0x1bf86efe10>"
      ]
     },
     "metadata": {},
     "output_type": "display_data"
    }
   ],
   "source": [
    "returns = df.fill_price.pct_change()\n",
    "returns.abs().plot(logy=True);"
   ]
  },
  {
   "cell_type": "code",
   "execution_count": 26,
   "metadata": {
    "collapsed": true
   },
   "outputs": [],
   "source": [
    "# TODO: interactive timeseries plot of the data using plotly (or similar)"
   ]
  },
  {
   "cell_type": "markdown",
   "metadata": {},
   "source": [
    "# Histogram of the distribution of `askOrder.limit.value`\n",
    "\n",
    "Useful to see how we can create historgram of values across agents.  Agents are representing by `askOrder.issuer` identifiers."
   ]
  },
  {
   "cell_type": "code",
   "execution_count": 81,
   "metadata": {
    "collapsed": false
   },
   "outputs": [
    {
     "data": {
      "text/plain": [
       "<matplotlib.axes._subplots.AxesSubplot at 0x1bfb367630>"
      ]
     },
     "execution_count": 81,
     "metadata": {},
     "output_type": "execute_result"
    },
    {
     "data": {
      "image/png": "[encoded data removed]",
      "text/plain": [
       "<matplotlib.figure.Figure at 0x1bebbb4f98>"
      ]
     },
     "metadata": {},
     "output_type": "display_data"
    }
   ],
   "source": [
    "# limit price for ask orders was sampled from U[1, 2147483647]\n",
    "df.ask_price.plot(kind='hist', normed=True)"
   ]
  },
  {
   "cell_type": "code",
   "execution_count": 27,
   "metadata": {
    "collapsed": true
   },
   "outputs": [],
   "source": [
    "# TODO: interactive histogram of the data using plotly (or similar)"
   ]
  },
  {
   "cell_type": "code",
   "execution_count": null,
   "metadata": {
    "collapsed": true
   },
   "outputs": [],
   "source": []
  }
 ],
 "metadata": {
  "kernelspec": {
   "display_name": "Python 3",
   "language": "python",
   "name": "python3"
  },
  "language_info": {
   "codemirror_mode": {
    "name": "ipython",
    "version": 3
   },
   "file_extension": ".py",
   "mimetype": "text/x-python",
   "name": "python",
   "nbconvert_exporter": "python",
   "pygments_lexer": "ipython3",
   "version": "3.6.0"
  }
 },
 "nbformat": 4,
 "nbformat_minor": 2
}
