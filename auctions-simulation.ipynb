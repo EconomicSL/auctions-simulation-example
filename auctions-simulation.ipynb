{
 "cells": [
  {
   "cell_type": "code",
   "execution_count": 3,
   "metadata": {
    "collapsed": false
   },
   "outputs": [
    {
     "name": "stdout",
     "output_type": "stream",
     "text": [
      "[info] Loading global plugins from C:\\Users\\pughdr\\.sbt\\0.13\\plugins\n",
      "[info] Loading project definition from C:\\Users\\pughdr\\Research\\scalabm\\auctions-simulation-example\\project\n",
      "[info] Set current project to auctions-simulation-example (in build file:/C:/Users/pughdr/Research/scalabm/auctions-simulation-example/)\n",
      "[info] Running Simulation \n",
      "Hello from Scala!\n",
      "[success] Total time: 1 s, completed Jun 1, 2017 1:15:55 PM\n"
     ]
    },
    {
     "name": "stderr",
     "output_type": "stream",
     "text": [
      "Java HotSpot(TM) 64-Bit Server VM warning: ignoring option MaxPermSize=256m; support was removed in 8.0\n"
     ]
    }
   ],
   "source": [
    "!sbt \"run-main Simulation\""
   ]
  },
  {
   "cell_type": "code",
   "execution_count": null,
   "metadata": {
    "collapsed": true
   },
   "outputs": [],
   "source": []
  }
 ],
 "metadata": {
  "kernelspec": {
   "display_name": "Python 3",
   "language": "python",
   "name": "python3"
  },
  "language_info": {
   "codemirror_mode": {
    "name": "ipython",
    "version": 3
   },
   "file_extension": ".py",
   "mimetype": "text/x-python",
   "name": "python",
   "nbconvert_exporter": "python",
   "pygments_lexer": "ipython3",
   "version": "3.6.0"
  }
 },
 "nbformat": 4,
 "nbformat_minor": 2
}
