{
 "cells": [
  {
   "cell_type": "code",
   "execution_count": 2,
   "metadata": {
    "collapsed": true
   },
   "outputs": [],
   "source": [
    "import pandas as pd"
   ]
  },
  {
   "cell_type": "markdown",
   "metadata": {},
   "source": [
    "The configuration file for the simulation is contained in the `src/main/resources` directory.  Below is an example of how one can change a value in the configuration file from the command line..."
   ]
  },
  {
   "cell_type": "code",
   "execution_count": 1,
   "metadata": {
    "collapsed": false
   },
   "outputs": [
    {
     "name": "stdout",
     "output_type": "stream",
     "text": [
      "[info] Loading global plugins from C:\\Users\\pughdr\\.sbt\\0.13\\plugins\n",
      "[info] Loading project definition from C:\\Users\\pughdr\\Research\\scalabm\\auctions-simulation-example\\project\n",
      "[info] Set current project to auctions-simulation-example (in build file:/C:/Users/pughdr/Research/scalabm/auctions-simulation-example/)\n",
      "[info] Running PeriodicDoubleAuctionSimulation -Dsimulation.auction.clearing.interval=0.25 -Dsimulation.results.path=results.json\n",
      "[INFO] [06/08/2017 16:07:51.254] [AuctionSystem-akka.actor.default-dispatcher-2] [akka://AuctionSystem/user/auction] Message [PeriodicDoubleAuctionActor$ClearRequest$] from Actor[akka://AuctionSystem/user/auction#520094508] to Actor[akka://AuctionSystem/user/auction#520094508] was not delivered. [1] dead letters encountered. This logging can be turned off or adjusted with configuration settings 'akka.log-dead-letters' and 'akka.log-dead-letters-during-shutdown'.\n",
      "[INFO] [06/08/2017 16:07:51.255] [AuctionSystem-akka.actor.default-dispatcher-2] [akka://AuctionSystem/user/auction] Message [PeriodicDoubleAuctionActor$ClearRequest$] from Actor[akka://AuctionSystem/user/auction#520094508] to Actor[akka://AuctionSystem/user/auction#520094508] was not delivered. [2] dead letters encountered. This logging can be turned off or adjusted with configuration settings 'akka.log-dead-letters' and 'akka.log-dead-letters-during-shutdown'.\n",
      "[INFO] [06/08/2017 16:07:51.259] [AuctionSystem-akka.actor.default-dispatcher-2] [akka://AuctionSystem/user/auction] Message [PeriodicDoubleAuctionActor$ClearRequest$] from Actor[akka://AuctionSystem/user/auction#520094508] to Actor[akka://AuctionSystem/user/auction#520094508] was not delivered. [3] dead letters encountered. This logging can be turned off or adjusted with configuration settings 'akka.log-dead-letters' and 'akka.log-dead-letters-during-shutdown'.\n",
      "[INFO] [06/08/2017 16:07:51.259] [AuctionSystem-akka.actor.default-dispatcher-2] [akka://AuctionSystem/user/auction] Message [PeriodicDoubleAuctionActor$ClearRequest$] from Actor[akka://AuctionSystem/user/auction#520094508] to Actor[akka://AuctionSystem/user/auction#520094508] was not delivered. [4] dead letters encountered. This logging can be turned off or adjusted with configuration settings 'akka.log-dead-letters' and 'akka.log-dead-letters-during-shutdown'.\n",
      "[INFO] [06/08/2017 16:07:51.259] [AuctionSystem-akka.actor.default-dispatcher-2] [akka://AuctionSystem/user/auction] Message [PeriodicDoubleAuctionActor$ClearRequest$] from Actor[akka://AuctionSystem/user/auction#520094508] to Actor[akka://AuctionSystem/user/auction#520094508] was not delivered. [5] dead letters encountered. This logging can be turned off or adjusted with configuration settings 'akka.log-dead-letters' and 'akka.log-dead-letters-during-shutdown'.\n",
      "[INFO] [06/08/2017 16:07:51.260] [AuctionSystem-akka.actor.default-dispatcher-2] [akka://AuctionSystem/user/auction] Message [PeriodicDoubleAuctionActor$ClearRequest$] from Actor[akka://AuctionSystem/user/auction#520094508] to Actor[akka://AuctionSystem/user/auction#520094508] was not delivered. [6] dead letters encountered. This logging can be turned off or adjusted with configuration settings 'akka.log-dead-letters' and 'akka.log-dead-letters-during-shutdown'.\n",
      "[INFO] [06/08/2017 16:07:51.260] [AuctionSystem-akka.actor.default-dispatcher-2] [akka://AuctionSystem/user/auction] Message [PeriodicDoubleAuctionActor$ClearRequest$] from Actor[akka://AuctionSystem/user/auction#520094508] to Actor[akka://AuctionSystem/user/auction#520094508] was not delivered. [7] dead letters encountered. This logging can be turned off or adjusted with configuration settings 'akka.log-dead-letters' and 'akka.log-dead-letters-during-shutdown'.\n",
      "[INFO] [06/08/2017 16:07:51.260] [AuctionSystem-akka.actor.default-dispatcher-2] [akka://AuctionSystem/user/auction] Message [PeriodicDoubleAuctionActor$ClearRequest$] from Actor[akka://AuctionSystem/user/auction#520094508] to Actor[akka://AuctionSystem/user/auction#520094508] was not delivered. [8] dead letters encountered. This logging can be turned off or adjusted with configuration settings 'akka.log-dead-letters' and 'akka.log-dead-letters-during-shutdown'.\n",
      "[INFO] [06/08/2017 16:07:51.260] [AuctionSystem-akka.actor.default-dispatcher-2] [akka://AuctionSystem/user/auction] Message [PeriodicDoubleAuctionActor$ClearRequest$] from Actor[akka://AuctionSystem/user/auction#520094508] to Actor[akka://AuctionSystem/user/auction#520094508] was not delivered. [9] dead letters encountered. This logging can be turned off or adjusted with configuration settings 'akka.log-dead-letters' and 'akka.log-dead-letters-during-shutdown'.\n",
      "[INFO] [06/08/2017 16:07:51.260] [AuctionSystem-akka.actor.default-dispatcher-2] [akka://AuctionSystem/user/auction] Message [PeriodicDoubleAuctionActor$ClearRequest$] from Actor[akka://AuctionSystem/user/auction#520094508] to Actor[akka://AuctionSystem/user/auction#520094508] was not delivered. [10] dead letters encountered, no more dead letters will be logged. This logging can be turned off or adjusted with configuration settings 'akka.log-dead-letters' and 'akka.log-dead-letters-during-shutdown'.\n"
     ]
    }
   ],
   "source": [
    "!sbt \"run-main PeriodicDoubleAuctionSimulation -Dsimulation.auction.clearing.interval=0.25 -Dsimulation.results.path=results.json\""
   ]
  },
  {
   "cell_type": "code",
   "execution_count": 3,
   "metadata": {
    "collapsed": false
   },
   "outputs": [],
   "source": [
    "df = pd.read_json(\"./results.json\")"
   ]
  },
  {
   "cell_type": "markdown",
   "metadata": {},
   "source": [
    "Each row contains the fills associated with each auction clearing."
   ]
  },
  {
   "cell_type": "code",
   "execution_count": 5,
   "metadata": {
    "collapsed": false
   },
   "outputs": [
    {
     "data": {
      "text/plain": [
       "(15, 61813)"
      ]
     },
     "execution_count": 5,
     "metadata": {},
     "output_type": "execute_result"
    }
   ],
   "source": [
    "df.shape"
   ]
  },
  {
   "cell_type": "code",
   "execution_count": 7,
   "metadata": {
    "collapsed": false
   },
   "outputs": [
    {
     "data": {
      "text/plain": [
       "0       363\n",
       "1      1269\n",
       "2       623\n",
       "3      6856\n",
       "4      2143\n",
       "5       125\n",
       "6       506\n",
       "7     10271\n",
       "8      5654\n",
       "9     60462\n",
       "10      346\n",
       "11    61813\n",
       "12    23925\n",
       "13        3\n",
       "14    53111\n",
       "dtype: int64"
      ]
     },
     "execution_count": 7,
     "metadata": {},
     "output_type": "execute_result"
    }
   ],
   "source": [
    "# gives you a sense of the range of variance in order flow spread across the different clearings...\n",
    "df.T.count()"
   ]
  },
  {
   "cell_type": "code",
   "execution_count": 8,
   "metadata": {
    "collapsed": false
   },
   "outputs": [
    {
     "data": {
      "text/html": [
       "<div>\n",
       "<table border=\"1\" class=\"dataframe\">\n",
       "  <thead>\n",
       "    <tr style=\"text-align: right;\">\n",
       "      <th></th>\n",
       "      <th>0</th>\n",
       "      <th>1</th>\n",
       "      <th>2</th>\n",
       "      <th>3</th>\n",
       "      <th>4</th>\n",
       "      <th>5</th>\n",
       "      <th>6</th>\n",
       "      <th>7</th>\n",
       "      <th>8</th>\n",
       "      <th>9</th>\n",
       "      <th>...</th>\n",
       "      <th>61803</th>\n",
       "      <th>61804</th>\n",
       "      <th>61805</th>\n",
       "      <th>61806</th>\n",
       "      <th>61807</th>\n",
       "      <th>61808</th>\n",
       "      <th>61809</th>\n",
       "      <th>61810</th>\n",
       "      <th>61811</th>\n",
       "      <th>61812</th>\n",
       "    </tr>\n",
       "  </thead>\n",
       "  <tbody>\n",
       "    <tr>\n",
       "      <th>0</th>\n",
       "      <td>{'askOrder': {'issuer': 'd1c1e398-5a9f-4895-86...</td>\n",
       "      <td>{'askOrder': {'issuer': '48c00412-ee60-47ed-b0...</td>\n",
       "      <td>{'askOrder': {'issuer': 'ff6c4e1b-5230-40c6-bd...</td>\n",
       "      <td>{'askOrder': {'issuer': '660b3af2-e071-4112-b2...</td>\n",
       "      <td>{'askOrder': {'issuer': '0f0b10d5-ae4e-43a1-86...</td>\n",
       "      <td>{'askOrder': {'issuer': 'beec3c2c-f98f-41c6-8b...</td>\n",
       "      <td>{'askOrder': {'issuer': '684f1a46-68d1-48b9-a0...</td>\n",
       "      <td>{'askOrder': {'issuer': '341fd944-f662-4e50-a8...</td>\n",
       "      <td>{'askOrder': {'issuer': 'acb04ee5-80de-4363-9e...</td>\n",
       "      <td>{'askOrder': {'issuer': 'c83cfa61-c1fd-4b74-b8...</td>\n",
       "      <td>...</td>\n",
       "      <td>None</td>\n",
       "      <td>None</td>\n",
       "      <td>None</td>\n",
       "      <td>None</td>\n",
       "      <td>None</td>\n",
       "      <td>None</td>\n",
       "      <td>None</td>\n",
       "      <td>None</td>\n",
       "      <td>None</td>\n",
       "      <td>None</td>\n",
       "    </tr>\n",
       "    <tr>\n",
       "      <th>1</th>\n",
       "      <td>{'askOrder': {'issuer': 'a6faa95a-7748-4a58-a9...</td>\n",
       "      <td>{'askOrder': {'issuer': '78e2f9e0-8dc7-4eff-a4...</td>\n",
       "      <td>{'askOrder': {'issuer': '4bcb4d1e-1719-4193-b0...</td>\n",
       "      <td>{'askOrder': {'issuer': 'bc9bd23b-181d-4977-ad...</td>\n",
       "      <td>{'askOrder': {'issuer': '0397d7e1-a9fc-44da-8c...</td>\n",
       "      <td>{'askOrder': {'issuer': '3325dbd0-888c-4d9f-9b...</td>\n",
       "      <td>{'askOrder': {'issuer': 'f8d6b313-afe1-48c6-bc...</td>\n",
       "      <td>{'askOrder': {'issuer': '67fc6b71-9f15-41e6-84...</td>\n",
       "      <td>{'askOrder': {'issuer': '76e0920c-8022-459f-ad...</td>\n",
       "      <td>{'askOrder': {'issuer': 'c903c8dc-b4b0-4ad2-93...</td>\n",
       "      <td>...</td>\n",
       "      <td>None</td>\n",
       "      <td>None</td>\n",
       "      <td>None</td>\n",
       "      <td>None</td>\n",
       "      <td>None</td>\n",
       "      <td>None</td>\n",
       "      <td>None</td>\n",
       "      <td>None</td>\n",
       "      <td>None</td>\n",
       "      <td>None</td>\n",
       "    </tr>\n",
       "    <tr>\n",
       "      <th>2</th>\n",
       "      <td>{'askOrder': {'issuer': '15a8e010-11d3-41fc-89...</td>\n",
       "      <td>{'askOrder': {'issuer': '13d18237-ae5b-46e9-9b...</td>\n",
       "      <td>{'askOrder': {'issuer': 'fe833b24-4b3e-4bc9-81...</td>\n",
       "      <td>{'askOrder': {'issuer': '95711661-5063-4b44-b4...</td>\n",
       "      <td>{'askOrder': {'issuer': 'ba1e8757-cf31-4ed7-8d...</td>\n",
       "      <td>{'askOrder': {'issuer': '46b176d5-a658-4cff-9b...</td>\n",
       "      <td>{'askOrder': {'issuer': '6e4809fa-c1c4-4d85-a0...</td>\n",
       "      <td>{'askOrder': {'issuer': '6ef47ba7-cf04-480d-a5...</td>\n",
       "      <td>{'askOrder': {'issuer': 'ee4d2261-4c1d-4853-86...</td>\n",
       "      <td>{'askOrder': {'issuer': '953482bd-d2b8-4567-97...</td>\n",
       "      <td>...</td>\n",
       "      <td>None</td>\n",
       "      <td>None</td>\n",
       "      <td>None</td>\n",
       "      <td>None</td>\n",
       "      <td>None</td>\n",
       "      <td>None</td>\n",
       "      <td>None</td>\n",
       "      <td>None</td>\n",
       "      <td>None</td>\n",
       "      <td>None</td>\n",
       "    </tr>\n",
       "    <tr>\n",
       "      <th>3</th>\n",
       "      <td>{'askOrder': {'issuer': '1d63a362-83a6-4d91-88...</td>\n",
       "      <td>{'askOrder': {'issuer': '9c7d9c43-76a4-435f-b0...</td>\n",
       "      <td>{'askOrder': {'issuer': '6337a792-4322-46fb-95...</td>\n",
       "      <td>{'askOrder': {'issuer': '9e7a5809-ba53-4047-8c...</td>\n",
       "      <td>{'askOrder': {'issuer': '2b8a5303-14f0-46cc-9f...</td>\n",
       "      <td>{'askOrder': {'issuer': '724a159c-df6f-46a2-bb...</td>\n",
       "      <td>{'askOrder': {'issuer': '47764082-4a59-4f52-b4...</td>\n",
       "      <td>{'askOrder': {'issuer': '5f2403ff-65ce-4993-93...</td>\n",
       "      <td>{'askOrder': {'issuer': 'f4ff22f6-398e-403a-90...</td>\n",
       "      <td>{'askOrder': {'issuer': 'f2b8171e-4418-439a-af...</td>\n",
       "      <td>...</td>\n",
       "      <td>None</td>\n",
       "      <td>None</td>\n",
       "      <td>None</td>\n",
       "      <td>None</td>\n",
       "      <td>None</td>\n",
       "      <td>None</td>\n",
       "      <td>None</td>\n",
       "      <td>None</td>\n",
       "      <td>None</td>\n",
       "      <td>None</td>\n",
       "    </tr>\n",
       "    <tr>\n",
       "      <th>4</th>\n",
       "      <td>{'askOrder': {'issuer': 'cd4c8a9f-70f9-4606-ba...</td>\n",
       "      <td>{'askOrder': {'issuer': 'a897c57a-cd50-47d2-b4...</td>\n",
       "      <td>{'askOrder': {'issuer': '5b0d6019-8e03-44f7-99...</td>\n",
       "      <td>{'askOrder': {'issuer': 'a750a048-8037-4a22-8c...</td>\n",
       "      <td>{'askOrder': {'issuer': '94726f97-aac2-4acc-81...</td>\n",
       "      <td>{'askOrder': {'issuer': '121ccfe6-6317-4a72-a0...</td>\n",
       "      <td>{'askOrder': {'issuer': '9fc36104-e0e3-4d25-a3...</td>\n",
       "      <td>{'askOrder': {'issuer': 'cda839e8-6b19-489d-b2...</td>\n",
       "      <td>{'askOrder': {'issuer': '35466ac2-41a9-4afb-99...</td>\n",
       "      <td>{'askOrder': {'issuer': 'cfc4caf5-c600-4e94-bc...</td>\n",
       "      <td>...</td>\n",
       "      <td>None</td>\n",
       "      <td>None</td>\n",
       "      <td>None</td>\n",
       "      <td>None</td>\n",
       "      <td>None</td>\n",
       "      <td>None</td>\n",
       "      <td>None</td>\n",
       "      <td>None</td>\n",
       "      <td>None</td>\n",
       "      <td>None</td>\n",
       "    </tr>\n",
       "  </tbody>\n",
       "</table>\n",
       "<p>5 rows × 61813 columns</p>\n",
       "</div>"
      ],
      "text/plain": [
       "                                               0      \\\n",
       "0  {'askOrder': {'issuer': 'd1c1e398-5a9f-4895-86...   \n",
       "1  {'askOrder': {'issuer': 'a6faa95a-7748-4a58-a9...   \n",
       "2  {'askOrder': {'issuer': '15a8e010-11d3-41fc-89...   \n",
       "3  {'askOrder': {'issuer': '1d63a362-83a6-4d91-88...   \n",
       "4  {'askOrder': {'issuer': 'cd4c8a9f-70f9-4606-ba...   \n",
       "\n",
       "                                               1      \\\n",
       "0  {'askOrder': {'issuer': '48c00412-ee60-47ed-b0...   \n",
       "1  {'askOrder': {'issuer': '78e2f9e0-8dc7-4eff-a4...   \n",
       "2  {'askOrder': {'issuer': '13d18237-ae5b-46e9-9b...   \n",
       "3  {'askOrder': {'issuer': '9c7d9c43-76a4-435f-b0...   \n",
       "4  {'askOrder': {'issuer': 'a897c57a-cd50-47d2-b4...   \n",
       "\n",
       "                                               2      \\\n",
       "0  {'askOrder': {'issuer': 'ff6c4e1b-5230-40c6-bd...   \n",
       "1  {'askOrder': {'issuer': '4bcb4d1e-1719-4193-b0...   \n",
       "2  {'askOrder': {'issuer': 'fe833b24-4b3e-4bc9-81...   \n",
       "3  {'askOrder': {'issuer': '6337a792-4322-46fb-95...   \n",
       "4  {'askOrder': {'issuer': '5b0d6019-8e03-44f7-99...   \n",
       "\n",
       "                                               3      \\\n",
       "0  {'askOrder': {'issuer': '660b3af2-e071-4112-b2...   \n",
       "1  {'askOrder': {'issuer': 'bc9bd23b-181d-4977-ad...   \n",
       "2  {'askOrder': {'issuer': '95711661-5063-4b44-b4...   \n",
       "3  {'askOrder': {'issuer': '9e7a5809-ba53-4047-8c...   \n",
       "4  {'askOrder': {'issuer': 'a750a048-8037-4a22-8c...   \n",
       "\n",
       "                                               4      \\\n",
       "0  {'askOrder': {'issuer': '0f0b10d5-ae4e-43a1-86...   \n",
       "1  {'askOrder': {'issuer': '0397d7e1-a9fc-44da-8c...   \n",
       "2  {'askOrder': {'issuer': 'ba1e8757-cf31-4ed7-8d...   \n",
       "3  {'askOrder': {'issuer': '2b8a5303-14f0-46cc-9f...   \n",
       "4  {'askOrder': {'issuer': '94726f97-aac2-4acc-81...   \n",
       "\n",
       "                                               5      \\\n",
       "0  {'askOrder': {'issuer': 'beec3c2c-f98f-41c6-8b...   \n",
       "1  {'askOrder': {'issuer': '3325dbd0-888c-4d9f-9b...   \n",
       "2  {'askOrder': {'issuer': '46b176d5-a658-4cff-9b...   \n",
       "3  {'askOrder': {'issuer': '724a159c-df6f-46a2-bb...   \n",
       "4  {'askOrder': {'issuer': '121ccfe6-6317-4a72-a0...   \n",
       "\n",
       "                                               6      \\\n",
       "0  {'askOrder': {'issuer': '684f1a46-68d1-48b9-a0...   \n",
       "1  {'askOrder': {'issuer': 'f8d6b313-afe1-48c6-bc...   \n",
       "2  {'askOrder': {'issuer': '6e4809fa-c1c4-4d85-a0...   \n",
       "3  {'askOrder': {'issuer': '47764082-4a59-4f52-b4...   \n",
       "4  {'askOrder': {'issuer': '9fc36104-e0e3-4d25-a3...   \n",
       "\n",
       "                                               7      \\\n",
       "0  {'askOrder': {'issuer': '341fd944-f662-4e50-a8...   \n",
       "1  {'askOrder': {'issuer': '67fc6b71-9f15-41e6-84...   \n",
       "2  {'askOrder': {'issuer': '6ef47ba7-cf04-480d-a5...   \n",
       "3  {'askOrder': {'issuer': '5f2403ff-65ce-4993-93...   \n",
       "4  {'askOrder': {'issuer': 'cda839e8-6b19-489d-b2...   \n",
       "\n",
       "                                               8      \\\n",
       "0  {'askOrder': {'issuer': 'acb04ee5-80de-4363-9e...   \n",
       "1  {'askOrder': {'issuer': '76e0920c-8022-459f-ad...   \n",
       "2  {'askOrder': {'issuer': 'ee4d2261-4c1d-4853-86...   \n",
       "3  {'askOrder': {'issuer': 'f4ff22f6-398e-403a-90...   \n",
       "4  {'askOrder': {'issuer': '35466ac2-41a9-4afb-99...   \n",
       "\n",
       "                                               9      ...  61803 61804 61805  \\\n",
       "0  {'askOrder': {'issuer': 'c83cfa61-c1fd-4b74-b8...  ...   None  None  None   \n",
       "1  {'askOrder': {'issuer': 'c903c8dc-b4b0-4ad2-93...  ...   None  None  None   \n",
       "2  {'askOrder': {'issuer': '953482bd-d2b8-4567-97...  ...   None  None  None   \n",
       "3  {'askOrder': {'issuer': 'f2b8171e-4418-439a-af...  ...   None  None  None   \n",
       "4  {'askOrder': {'issuer': 'cfc4caf5-c600-4e94-bc...  ...   None  None  None   \n",
       "\n",
       "  61806 61807 61808 61809 61810 61811 61812  \n",
       "0  None  None  None  None  None  None  None  \n",
       "1  None  None  None  None  None  None  None  \n",
       "2  None  None  None  None  None  None  None  \n",
       "3  None  None  None  None  None  None  None  \n",
       "4  None  None  None  None  None  None  None  \n",
       "\n",
       "[5 rows x 61813 columns]"
      ]
     },
     "execution_count": 8,
     "metadata": {},
     "output_type": "execute_result"
    }
   ],
   "source": [
    "# raw json is messy, will need to pre-process the JSON before loading it into Pandas...\n",
    "df.head()"
   ]
  },
  {
   "cell_type": "code",
   "execution_count": null,
   "metadata": {
    "collapsed": true
   },
   "outputs": [],
   "source": []
  }
 ],
 "metadata": {
  "kernelspec": {
   "display_name": "Python 3",
   "language": "python",
   "name": "python3"
  },
  "language_info": {
   "codemirror_mode": {
    "name": "ipython",
    "version": 3
   },
   "file_extension": ".py",
   "mimetype": "text/x-python",
   "name": "python",
   "nbconvert_exporter": "python",
   "pygments_lexer": "ipython3",
   "version": "3.6.0"
  }
 },
 "nbformat": 4,
 "nbformat_minor": 2
}
